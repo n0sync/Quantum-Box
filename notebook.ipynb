{
 "cells": [
  {
   "cell_type": "markdown",
   "metadata": {},
   "source": [
    "# QuantumBox\n",
    "\n",
    "This notebook explains the quantum mechanical systems implemented in QuantumBox."
   ]
  },
  {
   "cell_type": "markdown",
   "metadata": {},
   "source": [
    "## 1. The Infinite Square Well\n",
    "\n",
    "### The Problem\n",
    "A particle confined between infinite potential barriers at $x = 0$ and $x = a$:\n",
    "\n",
    "$$V(x) = \\begin{cases}\n",
    "0 & \\text{if } 0 < x < a \\\\\n",
    "\\infty & \\text{otherwise}\n",
    "\\end{cases}$$\n",
    "\n",
    "### Solution\n",
    "Inside the well, the Schrödinger equation becomes:\n",
    "$$-\\frac{\\hbar^2}{2m}\\frac{d^2\\psi}{dx^2} = E\\psi$$\n",
    "\n",
    "With boundary conditions $\\psi(0) = \\psi(a) = 0$, the solutions are:\n",
    "\n",
    "**Energy levels:**\n",
    "$$E_n = \\frac{n^2\\pi^2\\hbar^2}{2ma^2} \\quad n = 1, 2, 3, \\ldots$$\n",
    "\n",
    "**Wavefunctions:**\n",
    "$$\\psi_n(x) = \\sqrt{\\frac{2}{a}}\\sin\\left(\\frac{n\\pi x}{a}\\right)$$"
   ]
  },
  {
   "cell_type": "markdown",
   "metadata": {},
   "source": [
    "### Key Physics\n",
    "- **Quantization**: Energy comes in discrete values\n",
    "- **Zero-point energy**: Ground state has $E_1 > 0$\n",
    "- **Standing waves**: $n-1$ nodes inside the well\n",
    "- **Perfect confinement**: Wavefunction is exactly zero at walls"
   ]
  },
  {
   "cell_type": "markdown",
   "metadata": {},
   "source": [
    "## 2. The Finite Square Well\n",
    "\n",
    "### The Problem\n",
    "A particle in a finite potential well:\n",
    "\n",
    "$$V(x) = \\begin{cases}\n",
    "-V_0 & \\text{if } -a < x < a \\\\\n",
    "0 & \\text{if } |x| > a\n",
    "\\end{cases}$$\n",
    "\n",
    "### Solution:\n",
    "**Inside the well** ($|x| < a$): Sinusoidal solutions\n",
    "$$\\psi(x) = A\\cos(kx) + B\\sin(kx)$$\n",
    "where $k = \\sqrt{2m(E + V_0)}/\\hbar$\n",
    "\n",
    "**Outside the well** ($|x| > a$): Exponential decay\n",
    "$$\\psi(x) = Ce^{-\\kappa|x|}$$\n",
    "where $\\kappa = \\sqrt{-2mE}/\\hbar$\n",
    "\n",
    "**Boundary conditions**: $\\psi$ and $d\\psi/dx$ continuous at $x = \\pm a$\n",
    "\n",
    "This leads to transcendental equations:\n",
    "- **Even states**: $\\tan(ka) = \\kappa/k$\n",
    "- **Odd states**: $-\\cot(ka) = \\kappa/k$"
   ]
  },
  {
   "cell_type": "markdown",
   "metadata": {},
   "source": [
    "### Key Physics\n",
    "- **Finite bound states**: Only limited number of allowed energies\n",
    "- **Tunneling**: Wavefunction extends beyond classical boundaries\n",
    "- **Exponential decay**: $\\psi \\propto e^{-\\kappa x}$ in forbidden regions\n",
    "- **Parity**: Even/odd symmetry determines solution type"
   ]
  },
  {
   "cell_type": "markdown",
   "metadata": {},
   "source": [
    "## References\n",
    "- Griffiths, D. J. (2018). *Introduction to Quantum Mechanics* (3rd ed.). Cambridge University Press.\n",
    "  - Chapter 2.1: The Infinite Square Well\n",
    "  - Chapter 2.6: The Finite Square Well"
   ]
  }
 ],
 "metadata": {
  "kernelspec": {
   "display_name": "Python 3",
   "language": "python",
   "name": "python3"
  },
  "language_info": {
   "codemirror_mode": {
    "name": "ipython",
    "version": 3
   },
   "file_extension": ".py",
   "mimetype": "text/x-python",
   "name": "python",
   "nbconvert_exporter": "python",
   "pygments_lexer": "ipython3",
   "version": "3.8.5"
  }
 },
 "nbformat": 4,
 "nbformat_minor": 4
}
